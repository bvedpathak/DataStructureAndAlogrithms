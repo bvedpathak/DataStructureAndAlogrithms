{
 "cells": [
  {
   "cell_type": "code",
   "execution_count": null,
   "id": "4e61dc87",
   "metadata": {},
   "outputs": [
    {
     "name": "stdout",
     "output_type": "stream",
     "text": [
      "[1, 4, 9, 16, 25, 36]\n",
      "[2, 4, 6]\n"
     ]
    }
   ],
   "source": [
    "nums = [1,2,3,4,5,6]\n",
    "square = list(map(lambda x: x**2, nums))\n",
    "print(square)\n",
    "evens = list(filter(lambda x: x % 2 == 0, nums))\n",
    "print(evens)\n",
    "\n"
   ]
  },
  {
   "cell_type": "code",
   "execution_count": 2,
   "id": "4da95640",
   "metadata": {},
   "outputs": [
    {
     "name": "stdout",
     "output_type": "stream",
     "text": [
      "[('Bhagyesh', 44), ('Amruta', 42), ('Maya', 6)]\n"
     ]
    }
   ],
   "source": [
    "family = [('Bhagyesh', 44), ('Maya', 6), ('Amruta', 42)]\n",
    "\n",
    "print(sorted(family, key=lambda person: -1*person[1]))"
   ]
  },
  {
   "cell_type": "markdown",
   "id": "09674edc",
   "metadata": {},
   "source": [
    "arr = [1,2,3,4,5]\n",
    "\n",
    "str1 = \"\".join(arr)\n",
    "\n",
    "print(str1)"
   ]
  }
 ],
 "metadata": {
  "kernelspec": {
   "display_name": "base",
   "language": "python",
   "name": "python3"
  },
  "language_info": {
   "codemirror_mode": {
    "name": "ipython",
    "version": 3
   },
   "file_extension": ".py",
   "mimetype": "text/x-python",
   "name": "python",
   "nbconvert_exporter": "python",
   "pygments_lexer": "ipython3",
   "version": "3.12.7"
  }
 },
 "nbformat": 4,
 "nbformat_minor": 5
}
